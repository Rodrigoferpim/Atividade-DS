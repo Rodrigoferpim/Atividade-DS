{
 "cells": [
  {
   "cell_type": "markdown",
   "id": "national-manner",
   "metadata": {},
   "source": [
    "## 0 - Importação das bibliotecas necessárias:"
   ]
  },
  {
   "cell_type": "code",
   "execution_count": 2,
   "id": "universal-newman",
   "metadata": {},
   "outputs": [],
   "source": [
    "import pandas as pd\n",
    "import numpy as np\n",
    "import matplotlib.pyplot as plt\n",
    "import seaborn as sns\n",
    "import warnings\n",
    "warnings.filterwarnings('ignore')"
   ]
  },
  {
   "cell_type": "markdown",
   "id": "offensive-professor",
   "metadata": {},
   "source": [
    "## 1 - Leitura dos dados:"
   ]
  },
  {
   "cell_type": "code",
   "execution_count": 3,
   "id": "innocent-status",
   "metadata": {},
   "outputs": [],
   "source": [
    "# Leitura dos DF's\n",
    "df_resultado = pd.read_csv('bases\\campeonato-brasileiro-full.csv')\n",
    "df_estatisticas = pd.read_csv('bases\\campeonato-brasileiro-estatisticas-full.csv')"
   ]
  },
  {
   "cell_type": "markdown",
   "id": "leading-condition",
   "metadata": {},
   "source": [
    "##  2 - Manipulação e limpeza de dados com pandas:"
   ]
  },
  {
   "cell_type": "code",
   "execution_count": 3,
   "id": "affected-herald",
   "metadata": {},
   "outputs": [
    {
     "data": {
      "text/html": [
       "<div>\n",
       "<style scoped>\n",
       "    .dataframe tbody tr th:only-of-type {\n",
       "        vertical-align: middle;\n",
       "    }\n",
       "\n",
       "    .dataframe tbody tr th {\n",
       "        vertical-align: top;\n",
       "    }\n",
       "\n",
       "    .dataframe thead th {\n",
       "        text-align: right;\n",
       "    }\n",
       "</style>\n",
       "<table border=\"1\" class=\"dataframe\">\n",
       "  <thead>\n",
       "    <tr style=\"text-align: right;\">\n",
       "      <th></th>\n",
       "      <th>ID</th>\n",
       "      <th>Data</th>\n",
       "      <th>Mandante</th>\n",
       "      <th>Vencedor</th>\n",
       "    </tr>\n",
       "  </thead>\n",
       "  <tbody>\n",
       "    <tr>\n",
       "      <th>7559</th>\n",
       "      <td>7560</td>\n",
       "      <td>2019-04-27</td>\n",
       "      <td>Atlético-MG</td>\n",
       "      <td>Atlético-MG</td>\n",
       "    </tr>\n",
       "    <tr>\n",
       "      <th>7560</th>\n",
       "      <td>7561</td>\n",
       "      <td>2019-04-27</td>\n",
       "      <td>Chapecoense</td>\n",
       "      <td>Chapecoense</td>\n",
       "    </tr>\n",
       "    <tr>\n",
       "      <th>7561</th>\n",
       "      <td>7562</td>\n",
       "      <td>2019-04-27</td>\n",
       "      <td>Flamengo</td>\n",
       "      <td>Flamengo</td>\n",
       "    </tr>\n",
       "    <tr>\n",
       "      <th>7562</th>\n",
       "      <td>7563</td>\n",
       "      <td>2019-04-27</td>\n",
       "      <td>São Paulo</td>\n",
       "      <td>São Paulo</td>\n",
       "    </tr>\n",
       "    <tr>\n",
       "      <th>7563</th>\n",
       "      <td>7564</td>\n",
       "      <td>2019-04-28</td>\n",
       "      <td>Athlético-PR</td>\n",
       "      <td>Athlético-PR</td>\n",
       "    </tr>\n",
       "    <tr>\n",
       "      <th>...</th>\n",
       "      <td>...</td>\n",
       "      <td>...</td>\n",
       "      <td>...</td>\n",
       "      <td>...</td>\n",
       "    </tr>\n",
       "    <tr>\n",
       "      <th>7934</th>\n",
       "      <td>7935</td>\n",
       "      <td>2019-12-08</td>\n",
       "      <td>Goiás</td>\n",
       "      <td>Goiás</td>\n",
       "    </tr>\n",
       "    <tr>\n",
       "      <th>7935</th>\n",
       "      <td>7936</td>\n",
       "      <td>2019-12-08</td>\n",
       "      <td>Internacional</td>\n",
       "      <td>Internacional</td>\n",
       "    </tr>\n",
       "    <tr>\n",
       "      <th>7936</th>\n",
       "      <td>7937</td>\n",
       "      <td>2019-12-08</td>\n",
       "      <td>Cruzeiro</td>\n",
       "      <td>Palmeiras</td>\n",
       "    </tr>\n",
       "    <tr>\n",
       "      <th>7937</th>\n",
       "      <td>7938</td>\n",
       "      <td>2019-12-08</td>\n",
       "      <td>Santos</td>\n",
       "      <td>Santos</td>\n",
       "    </tr>\n",
       "    <tr>\n",
       "      <th>7938</th>\n",
       "      <td>7939</td>\n",
       "      <td>2019-12-08</td>\n",
       "      <td>CSA</td>\n",
       "      <td>São Paulo</td>\n",
       "    </tr>\n",
       "  </tbody>\n",
       "</table>\n",
       "<p>380 rows × 4 columns</p>\n",
       "</div>"
      ],
      "text/plain": [
       "        ID        Data       Mandante       Vencedor\n",
       "7559  7560  2019-04-27    Atlético-MG    Atlético-MG\n",
       "7560  7561  2019-04-27    Chapecoense    Chapecoense\n",
       "7561  7562  2019-04-27       Flamengo       Flamengo\n",
       "7562  7563  2019-04-27      São Paulo      São Paulo\n",
       "7563  7564  2019-04-28   Athlético-PR   Athlético-PR\n",
       "...    ...         ...            ...            ...\n",
       "7934  7935  2019-12-08          Goiás          Goiás\n",
       "7935  7936  2019-12-08  Internacional  Internacional\n",
       "7936  7937  2019-12-08       Cruzeiro      Palmeiras\n",
       "7937  7938  2019-12-08         Santos         Santos\n",
       "7938  7939  2019-12-08            CSA      São Paulo\n",
       "\n",
       "[380 rows x 4 columns]"
      ]
     },
     "execution_count": 3,
     "metadata": {},
     "output_type": "execute_result"
    }
   ],
   "source": [
    "# Retirando colunas desnecessárias\n",
    "df_estatisticas.drop(columns=['Precisão de passe', 'Faltas', 'Cartões amarelos', 'Impedimentos', 'Escanteios', 'Posse de bola','Chutes'], inplace=True)\n",
    "df_resultado.drop(columns=['Rodada','Horário','Dia', 'Arena', 'Estado Mandante', 'Estado Visitante', 'Estado Vencedor', 'Visitante', 'Mandante Placar', 'Visitante Placar'], inplace = True)\n",
    "\n",
    "# Filtrando somente pelos jogos de '2019'\n",
    "resultados_2019 = df_resultado[df_resultado['Data'].between('2019-01-01', '2019-12-31')]\n",
    "resultados_2019"
   ]
  },
  {
   "cell_type": "code",
   "execution_count": 4,
   "id": "sapphire-encounter",
   "metadata": {},
   "outputs": [],
   "source": [
    "# Função para ajudar na classificação dos resultados.\n",
    "\"\"\"\n",
    " 2 - Empate\n",
    " 1 - Vitória\n",
    " 0 - Derrota\n",
    "\"\"\"\n",
    "def verifica_resultado(time, resultado):\n",
    "    if time == resultado:\n",
    "        return 1\n",
    "    elif resultado == '-':\n",
    "        return 2\n",
    "    else:\n",
    "        return 0   "
   ]
  },
  {
   "cell_type": "code",
   "execution_count": 5,
   "id": "living-murder",
   "metadata": {},
   "outputs": [],
   "source": [
    "# Join dos DF's para criação de uma única base. \n",
    "df_final = pd.merge(resultados_2019, df_estatisticas, how='left', on=['ID'])\n",
    "\n",
    "# Criação de uma nova feature para treinarmos nosso estimador, com os resultados de vitória e derrota.\n",
    "df_final['Resultado']  = [verifica_resultado(data[2], data[3]) for data in df_final.values]\n",
    "\n",
    "# Renomeação de colunas para um melhor entendimmento. \n",
    "df_final.columns = ['ID','MES', 'TIME','VENCEDOR','BOOL_M','CHUTES_GOL','PASSES','CARTÕES_VERMELHOS','RESULTADO']"
   ]
  },
  {
   "cell_type": "code",
   "execution_count": 6,
   "id": "wrapped-savings",
   "metadata": {},
   "outputs": [],
   "source": [
    "# Sobrescrita de variavel para realização de agrupamento mensal.\n",
    "df_final['MES'] = [data[5:7] for data in df_final['MES']]\n",
    "\n",
    "# Separando DF com as vitórias e derrotas.\n",
    "df = df_final[(df_final['RESULTADO'] == 1) | (df_final['RESULTADO'] == 0)]"
   ]
  },
  {
   "cell_type": "code",
   "execution_count": 7,
   "id": "realistic-repeat",
   "metadata": {},
   "outputs": [
    {
     "data": {
      "text/plain": [
       "ID                    0\n",
       "MES                   0\n",
       "TIME                  0\n",
       "VENCEDOR              0\n",
       "BOOL_M                0\n",
       "CHUTES_GOL           16\n",
       "PASSES               16\n",
       "CARTÕES_VERMELHOS    16\n",
       "RESULTADO             0\n",
       "dtype: int64"
      ]
     },
     "execution_count": 7,
     "metadata": {},
     "output_type": "execute_result"
    }
   ],
   "source": [
    "# Filtrando df para somentes trazer estatisticas dos times mandantes.\n",
    "df = df[df['BOOL_M'] == 1]\n",
    "\n",
    "# Verificando dados faltantes no nosso df.\n",
    "df.isnull().sum()"
   ]
  },
  {
   "cell_type": "code",
   "execution_count": 8,
   "id": "environmental-celebrity",
   "metadata": {},
   "outputs": [
    {
     "name": "stdout",
     "output_type": "stream",
     "text": [
      "A Mediana de chutes ao gol foi de: 5.0\n",
      "A Mediana de passes foi de: 408.0\n",
      "A Mediana de cartões vermelhos foi de: 0.0\n"
     ]
    },
    {
     "data": {
      "text/plain": [
       "ID                   0\n",
       "MES                  0\n",
       "TIME                 0\n",
       "VENCEDOR             0\n",
       "BOOL_M               0\n",
       "CHUTES_GOL           0\n",
       "PASSES               0\n",
       "CARTÕES_VERMELHOS    0\n",
       "RESULTADO            0\n",
       "dtype: int64"
      ]
     },
     "execution_count": 8,
     "metadata": {},
     "output_type": "execute_result"
    }
   ],
   "source": [
    "# Preenchendo valores faltantes com suas respectivas médias\n",
    "mediana_chutes_gol = round(np.median(df.groupby('TIME')['CHUTES_GOL'].median()),0)\n",
    "mediana_passes = round(np.median(df.groupby('TIME')['PASSES'].median()),0)\n",
    "mediana_red_cards = round(np.median(df.groupby('TIME')['CARTÕES_VERMELHOS'].median()),0)\n",
    "\n",
    "print(f'A Mediana de chutes ao gol foi de: {mediana_chutes_gol}')\n",
    "print(f'A Mediana de passes foi de: {mediana_passes}')\n",
    "print(f'A Mediana de cartões vermelhos foi de: {mediana_red_cards}')\n",
    "\n",
    "df.update(df['CHUTES_GOL'].fillna(mediana_chutes_gol))\n",
    "df.update(df['PASSES'].fillna(mediana_passes))\n",
    "df.update(df['CARTÕES_VERMELHOS'].fillna(mediana_red_cards))\n",
    "\n",
    "# df devidamente preenchido.\n",
    "df.isnull().sum()"
   ]
  },
  {
   "cell_type": "markdown",
   "id": "collectible-canon",
   "metadata": {},
   "source": [
    "## 3 - Descritivo e exploração de dados com pandas"
   ]
  },
  {
   "cell_type": "code",
   "execution_count": 11,
   "id": "nutritional-pressing",
   "metadata": {
    "scrolled": true
   },
   "outputs": [
    {
     "name": "stdout",
     "output_type": "stream",
     "text": [
      "TOP 3 - Times com melhor desempenho em chutes ao gol mês: [04]\n",
      "     1 - Time: Athlético-PR, Chutes ao gol: 11\n",
      "     2 - Time: Grêmio, Chutes ao gol: 11\n",
      "     3 - Time: Palmeiras, Chutes ao gol: 9\n",
      "TOP 3 - Times com melhor desempenho em passes mês: [04]\n",
      "     1 - Time: Grêmio, Passes: 607\n",
      "     2 - Time: Fluminense, Passes: 598\n",
      "     3 - Time: Atlético-MG, Passes: 549\n",
      "-----------------------------------------------------------------------------------\n",
      "TOP 3 - Times com melhor desempenho em chutes ao gol mês: [05]\n",
      "     1 - Time: Santos, Chutes ao gol: 9\n",
      "     2 - Time: Fluminense, Chutes ao gol: 8\n",
      "     3 - Time: Bahia, Chutes ao gol: 8\n",
      "TOP 3 - Times com melhor desempenho em passes mês: [05]\n",
      "     1 - Time: Athlético-PR, Passes: 561\n",
      "     2 - Time: Cruzeiro, Passes: 559\n",
      "     3 - Time: Grêmio, Passes: 557\n",
      "-----------------------------------------------------------------------------------\n",
      "TOP 3 - Times com melhor desempenho em chutes ao gol mês: [06]\n",
      "     1 - Time: Flamengo, Chutes ao gol: 8\n",
      "     2 - Time: Atlético-MG, Chutes ao gol: 7\n",
      "     3 - Time: Internacional, Chutes ao gol: 7\n",
      "TOP 3 - Times com melhor desempenho em passes mês: [06]\n",
      "     1 - Time: Atlético-MG, Passes: 771\n",
      "     2 - Time: Flamengo, Passes: 652\n",
      "     3 - Time: Grêmio, Passes: 630\n",
      "-----------------------------------------------------------------------------------\n",
      "TOP 3 - Times com melhor desempenho em chutes ao gol mês: [07]\n",
      "     1 - Time: Flamengo, Chutes ao gol: 10\n",
      "     2 - Time: Santos, Chutes ao gol: 10\n",
      "     3 - Time: Corinthians, Chutes ao gol: 8\n",
      "TOP 3 - Times com melhor desempenho em passes mês: [07]\n",
      "     1 - Time: Fluminense, Passes: 660\n",
      "     2 - Time: Grêmio, Passes: 622\n",
      "     3 - Time: Corinthians, Passes: 549\n",
      "-----------------------------------------------------------------------------------\n",
      "TOP 3 - Times com melhor desempenho em chutes ao gol mês: [08]\n",
      "     1 - Time: Cruzeiro, Chutes ao gol: 10\n",
      "     2 - Time: Santos, Chutes ao gol: 10\n",
      "     3 - Time: Internacional, Chutes ao gol: 9\n",
      "TOP 3 - Times com melhor desempenho em passes mês: [08]\n",
      "     1 - Time: Fluminense, Passes: 663\n",
      "     2 - Time: Cruzeiro, Passes: 576\n",
      "     3 - Time: Avaí, Passes: 507\n",
      "-----------------------------------------------------------------------------------\n",
      "TOP 3 - Times com melhor desempenho em chutes ao gol mês: [09]\n",
      "     1 - Time: Grêmio, Chutes ao gol: 9\n",
      "     2 - Time: Palmeiras, Chutes ao gol: 8\n",
      "     3 - Time: Atlético-MG, Chutes ao gol: 8\n",
      "TOP 3 - Times com melhor desempenho em passes mês: [09]\n",
      "     1 - Time: Grêmio, Passes: 606\n",
      "     2 - Time: Flamengo, Passes: 594\n",
      "     3 - Time: Atlético-MG, Passes: 587\n",
      "-----------------------------------------------------------------------------------\n",
      "TOP 3 - Times com melhor desempenho em chutes ao gol mês: [10]\n",
      "     1 - Time: Palmeiras, Chutes ao gol: 8\n",
      "     2 - Time: Flamengo, Chutes ao gol: 7\n",
      "     3 - Time: Internacional, Chutes ao gol: 7\n",
      "TOP 3 - Times com melhor desempenho em passes mês: [10]\n",
      "     1 - Time: Flamengo, Passes: 605\n",
      "     2 - Time: Internacional, Passes: 605\n",
      "     3 - Time: São Paulo, Passes: 555\n",
      "-----------------------------------------------------------------------------------\n",
      "TOP 3 - Times com melhor desempenho em chutes ao gol mês: [11]\n",
      "     1 - Time: Santos, Chutes ao gol: 11\n",
      "     2 - Time: Cruzeiro, Chutes ao gol: 9\n",
      "     3 - Time: Atlético-MG, Chutes ao gol: 8\n",
      "TOP 3 - Times com melhor desempenho em passes mês: [11]\n",
      "     1 - Time: Grêmio, Passes: 559\n",
      "     2 - Time: Flamengo, Passes: 553\n",
      "     3 - Time: Corinthians, Passes: 531\n",
      "-----------------------------------------------------------------------------------\n",
      "TOP 3 - Times com melhor desempenho em chutes ao gol mês: [12]\n",
      "     1 - Time: Flamengo, Chutes ao gol: 13\n",
      "     2 - Time: Atlético-MG, Chutes ao gol: 8\n",
      "     3 - Time: São Paulo, Chutes ao gol: 8\n",
      "TOP 3 - Times com melhor desempenho em passes mês: [12]\n",
      "     1 - Time: Flamengo, Passes: 608\n",
      "     2 - Time: Corinthians, Passes: 538\n",
      "     3 - Time: Cruzeiro, Passes: 505\n",
      "-----------------------------------------------------------------------------------\n"
     ]
    }
   ],
   "source": [
    "# Agrupamento de desempenho mensal dos times/ conversão de dados float64 -> int64\n",
    "times_stats = df.groupby(['MES', 'TIME'])['CHUTES_GOL', 'PASSES', 'CARTÕES_VERMELHOS', 'RESULTADO'].median().astype('int64')\n",
    "\n",
    "# Resetando index \n",
    "times_stats.reset_index(inplace = True)\n",
    "\n",
    "# Explorando os dados e analisando os melhores desempenhos mensais\n",
    "verify = return_best_results(times_stats)"
   ]
  },
  {
   "cell_type": "code",
   "execution_count": 12,
   "id": "israeli-testament",
   "metadata": {
    "scrolled": true
   },
   "outputs": [
    {
     "name": "stdout",
     "output_type": "stream",
     "text": [
      "<class 'pandas.core.frame.DataFrame'>\n",
      "RangeIndex: 153 entries, 0 to 152\n",
      "Data columns (total 6 columns):\n",
      " #   Column             Non-Null Count  Dtype \n",
      "---  ------             --------------  ----- \n",
      " 0   MES                153 non-null    object\n",
      " 1   TIME               153 non-null    object\n",
      " 2   CHUTES_GOL         153 non-null    int64 \n",
      " 3   PASSES             153 non-null    int64 \n",
      " 4   CARTÕES_VERMELHOS  153 non-null    int64 \n",
      " 5   RESULTADO          153 non-null    int64 \n",
      "dtypes: int64(4), object(2)\n",
      "memory usage: 7.3+ KB\n"
     ]
    }
   ],
   "source": [
    "times_stats.info()"
   ]
  },
  {
   "cell_type": "code",
   "execution_count": 13,
   "id": "permanent-trace",
   "metadata": {},
   "outputs": [
    {
     "data": {
      "text/html": [
       "<div>\n",
       "<style scoped>\n",
       "    .dataframe tbody tr th:only-of-type {\n",
       "        vertical-align: middle;\n",
       "    }\n",
       "\n",
       "    .dataframe tbody tr th {\n",
       "        vertical-align: top;\n",
       "    }\n",
       "\n",
       "    .dataframe thead th {\n",
       "        text-align: right;\n",
       "    }\n",
       "</style>\n",
       "<table border=\"1\" class=\"dataframe\">\n",
       "  <thead>\n",
       "    <tr style=\"text-align: right;\">\n",
       "      <th></th>\n",
       "      <th>CHUTES_GOL</th>\n",
       "      <th>PASSES</th>\n",
       "      <th>CARTÕES_VERMELHOS</th>\n",
       "      <th>RESULTADO</th>\n",
       "    </tr>\n",
       "  </thead>\n",
       "  <tbody>\n",
       "    <tr>\n",
       "      <th>count</th>\n",
       "      <td>153.000000</td>\n",
       "      <td>153.000000</td>\n",
       "      <td>153.000000</td>\n",
       "      <td>153.000000</td>\n",
       "    </tr>\n",
       "    <tr>\n",
       "      <th>mean</th>\n",
       "      <td>5.326797</td>\n",
       "      <td>438.895425</td>\n",
       "      <td>0.052288</td>\n",
       "      <td>0.562092</td>\n",
       "    </tr>\n",
       "    <tr>\n",
       "      <th>std</th>\n",
       "      <td>2.226722</td>\n",
       "      <td>99.995998</td>\n",
       "      <td>0.223337</td>\n",
       "      <td>0.497759</td>\n",
       "    </tr>\n",
       "    <tr>\n",
       "      <th>min</th>\n",
       "      <td>1.000000</td>\n",
       "      <td>250.000000</td>\n",
       "      <td>0.000000</td>\n",
       "      <td>0.000000</td>\n",
       "    </tr>\n",
       "    <tr>\n",
       "      <th>25%</th>\n",
       "      <td>4.000000</td>\n",
       "      <td>366.000000</td>\n",
       "      <td>0.000000</td>\n",
       "      <td>0.000000</td>\n",
       "    </tr>\n",
       "    <tr>\n",
       "      <th>50%</th>\n",
       "      <td>5.000000</td>\n",
       "      <td>421.000000</td>\n",
       "      <td>0.000000</td>\n",
       "      <td>1.000000</td>\n",
       "    </tr>\n",
       "    <tr>\n",
       "      <th>75%</th>\n",
       "      <td>7.000000</td>\n",
       "      <td>505.000000</td>\n",
       "      <td>0.000000</td>\n",
       "      <td>1.000000</td>\n",
       "    </tr>\n",
       "    <tr>\n",
       "      <th>max</th>\n",
       "      <td>13.000000</td>\n",
       "      <td>771.000000</td>\n",
       "      <td>1.000000</td>\n",
       "      <td>1.000000</td>\n",
       "    </tr>\n",
       "  </tbody>\n",
       "</table>\n",
       "</div>"
      ],
      "text/plain": [
       "       CHUTES_GOL      PASSES  CARTÕES_VERMELHOS   RESULTADO\n",
       "count  153.000000  153.000000         153.000000  153.000000\n",
       "mean     5.326797  438.895425           0.052288    0.562092\n",
       "std      2.226722   99.995998           0.223337    0.497759\n",
       "min      1.000000  250.000000           0.000000    0.000000\n",
       "25%      4.000000  366.000000           0.000000    0.000000\n",
       "50%      5.000000  421.000000           0.000000    1.000000\n",
       "75%      7.000000  505.000000           0.000000    1.000000\n",
       "max     13.000000  771.000000           1.000000    1.000000"
      ]
     },
     "execution_count": 13,
     "metadata": {},
     "output_type": "execute_result"
    }
   ],
   "source": [
    "times_stats.describe()"
   ]
  },
  {
   "cell_type": "code",
   "execution_count": 10,
   "id": "prompt-input",
   "metadata": {},
   "outputs": [],
   "source": [
    "# Função que retorna os melhores desempenhos mensais\n",
    "def return_best_results(df):\n",
    "    meses  = df['MES'].unique()\n",
    "    for mes in meses:\n",
    "        temp = df[df['MES'] == mes]\n",
    "        top_chute = temp[['TIME','CHUTES_GOL']].sort_values(by = 'CHUTES_GOL', ascending = False).head(3)\n",
    "        top_chute.reset_index(inplace = True)\n",
    "        top_passes = temp[['TIME','PASSES']].sort_values(by = 'PASSES', ascending = False).head(3)\n",
    "        top_passes.reset_index(inplace = True)\n",
    "        print(f'TOP 3 - Times com melhor desempenho em chutes ao gol mês: [{mes}]')\n",
    "        print(f'     {1} - Time: {top_chute.values[0][1]}, Chutes ao gol: {top_chute.values[0][2]}')\n",
    "        print(f'     {2} - Time: {top_chute.values[1][1]}, Chutes ao gol: {top_chute.values[1][2]}')\n",
    "        print(f'     {3} - Time: {top_chute.values[2][1]}, Chutes ao gol: {top_chute.values[2][2]}')\n",
    "        print(f'TOP 3 - Times com melhor desempenho em passes mês: [{mes}]')\n",
    "        print(f'     {1} - Time: {top_passes.values[0][1]}, Passes: {top_passes.values[0][2]}')\n",
    "        print(f'     {2} - Time: {top_passes.values[1][1]}, Passes: {top_passes.values[1][2]}')\n",
    "        print(f'     {3} - Time: {top_passes.values[2][1]}, Passes: {top_passes.values[2][2]}')\n",
    "        print('-----------------------------------------------------------------------------------')"
   ]
  },
  {
   "cell_type": "markdown",
   "id": "greater-purpose",
   "metadata": {},
   "source": [
    "## 4 - Figuras que mostrem insights sobre os dados com pandas e matplotlib"
   ]
  },
  {
   "cell_type": "code",
   "execution_count": 14,
   "id": "periodic-camcorder",
   "metadata": {
    "scrolled": true
   },
   "outputs": [
    {
     "data": {
      "image/png": "[encoded data removed]",
      "text/plain": [
       "<Figure size 606.5x540 with 12 Axes>"
      ]
     },
     "metadata": {
      "needs_background": "light"
     },
     "output_type": "display_data"
    }
   ],
   "source": [
    "g = sns.pairplot(times_stats, hue='RESULTADO', markers = [11,10])\n",
    "handles = g._legend_data.values()\n",
    "labels = g._legend_data.keys()\n",
    "\n",
    "g._legend.remove()\n",
    "g.fig.legend(handles=handles, labels=labels, loc='upper left', ncol=3)\n",
    "plt.tight_layout()"
   ]
  },
  {
   "cell_type": "markdown",
   "id": "statewide-optics",
   "metadata": {},
   "source": [
    " ## Insights:\n",
    "  - Times mandantes que tomam mais cartões vermelhos perdem mais;\n",
    "  - Times mandantes que trocam mais passes vencem mais;\n",
    "  - Times mandantes que chutam mais ao gol tem mais probabilidade de vitória.  "
   ]
  },
  {
   "cell_type": "markdown",
   "id": "bronze-print",
   "metadata": {},
   "source": [
    "## 5 - Quebrar os dados em conjunto de treino e conjunto de teste"
   ]
  },
  {
   "cell_type": "code",
   "execution_count": 15,
   "id": "hired-gauge",
   "metadata": {},
   "outputs": [],
   "source": [
    "from sklearn.svm import LinearSVC\n",
    "from sklearn.model_selection import train_test_split\n",
    "from sklearn.metrics import accuracy_score"
   ]
  },
  {
   "cell_type": "code",
   "execution_count": 29,
   "id": "electric-justice",
   "metadata": {},
   "outputs": [
    {
     "name": "stdout",
     "output_type": "stream",
     "text": [
      "(153, 3) (153,)\n"
     ]
    }
   ],
   "source": [
    "# Retirando colunas com variaveis categoricas\n",
    "#times_stats.drop(columns=['MES', 'TIME'], inplace= True)\n",
    "\n",
    "X = times_stats.drop(columns='RESULTADO')\n",
    "y = times_stats['RESULTADO']\n",
    "print(X.shape, y.shape)\n",
    "\n",
    "# Separando os dados de treino e teste\n",
    "X_treino, X_teste, y_treino, y_teste = train_test_split(X, y, test_size=0.3, random_state=123)"
   ]
  },
  {
   "cell_type": "markdown",
   "id": "ancient-microwave",
   "metadata": {},
   "source": [
    "## 6-Treinar um estimador do scikit-learn de aprendizagem supervisionada (regressor ou classificador) no conjunto de treino"
   ]
  },
  {
   "cell_type": "code",
   "execution_count": 30,
   "id": "quiet-chile",
   "metadata": {
    "scrolled": true
   },
   "outputs": [
    {
     "data": {
      "text/plain": [
       "LinearSVC()"
      ]
     },
     "execution_count": 30,
     "metadata": {},
     "output_type": "execute_result"
    }
   ],
   "source": [
    "# Instânciando nosso estimador\n",
    "model = LinearSVC()\n",
    "\n",
    "# Treinando o estimado\n",
    "model.fit(X_treino, y_treino)"
   ]
  },
  {
   "cell_type": "markdown",
   "id": "continuous-machine",
   "metadata": {},
   "source": [
    "## 7 - Verificar o desempenho do estimador do scikit-learn no conjunto de teste"
   ]
  },
  {
   "cell_type": "code",
   "execution_count": 31,
   "id": "destroyed-travel",
   "metadata": {
    "scrolled": true
   },
   "outputs": [
    {
     "name": "stdout",
     "output_type": "stream",
     "text": [
      "O nosso estimador consegue acertar: 60.87% dos resultados dos jogos,\n",
      "dado o fato de que a análise avaliou somente o desempenho mediano dos times mandantes, é uma excelente taxa de acerto para a quantidade de dados disponíveis.\n"
     ]
    }
   ],
   "source": [
    "previsoes = model.predict(X_teste)\n",
    "taxa_acerto = accuracy_score(y_teste, previsoes)\n",
    "print(f'O nosso estimador consegue acertar: {round(taxa_acerto * 100, 2)}% dos resultados dos jogos,')\n",
    "print('dado o fato de que a análise avaliou somente o desempenho mediano dos times mandantes, é uma excelente taxa de acerto para a quantidade de dados disponíveis.')"
   ]
  }
 ],
 "metadata": {
  "kernelspec": {
   "display_name": "Python 3",
   "language": "python",
   "name": "python3"
  },
  "language_info": {
   "codemirror_mode": {
    "name": "ipython",
    "version": 3
   },
   "file_extension": ".py",
   "mimetype": "text/x-python",
   "name": "python",
   "nbconvert_exporter": "python",
   "pygments_lexer": "ipython3",
   "version": "3.8.5"
  }
 },
 "nbformat": 4,
 "nbformat_minor": 5
}
